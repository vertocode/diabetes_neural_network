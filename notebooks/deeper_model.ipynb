{
 "cells": [
  {
   "cell_type": "markdown",
   "id": "9b4085fe",
   "metadata": {},
   "source": [
    "## 0. Imports, Config, and Loading dataset"
   ]
  },
  {
   "cell_type": "code",
   "execution_count": 12,
   "id": "0cd6d5fb",
   "metadata": {},
   "outputs": [],
   "source": [
    "# config so we can easily change\n",
    "balance_treatment_type = 'oversampling' # 'undersampling', or 'oversampling'\n",
    "target_col = 'diabetes'\n",
    "random_state = 42\n",
    "dataset_test_size = 0.2\n",
    "learning_rate = 0.001\n",
    "epochs = 200\n",
    "batch_size = 256\n",
    "loss_function = 'binary_crossentropy' # 'binary_crossentropy', 'categorical_crossentropy', 'sparse_categorical_crossentropy', 'mse', 'mae', 'hinge'\n",
    "metrics = ['recall'] # 'accuracy', 'precision', 'recall', 'f1_score'\n",
    "activation_function = 'relu'\n",
    "output_activation_function = 'sigmoid'\n",
    "optimizer_type = 'adam'  # 'adam', 'sgd', 'rmsprop'\n",
    "\n",
    "# Loss function config\n",
    "gamma = 2.0\n",
    "alpha = 0.75 # alpha >0.5 is better for recall\n",
    "\n",
    "# Early stopping configuration\n",
    "early_stopping_patience = 20 # number of epochs to wait before stopping the training\n",
    "min_improvement = 0.02 # should improve at least 2% in the validation loss to continue training\n",
    "early_stopping_monitor = 'recall'\n",
    "\n",
    "# number of neurons config\n",
    "n_neurons_input_layer = 10\n",
    "n_neurons_hidden_layer1 = 64\n",
    "n_neurons_hidden_layer2 = 32\n",
    "n_neurons_hidden_layer3 = 16\n",
    "n_neurons_output_layer = 1"
   ]
  },
  {
   "cell_type": "code",
   "execution_count": 13,
   "id": "2a264eb9",
   "metadata": {},
   "outputs": [],
   "source": [
    "import kagglehub\n",
    "from kagglehub import KaggleDatasetAdapter\n",
    "from sklearn.preprocessing import StandardScaler\n",
    "from sklearn.utils import resample\n",
    "from sklearn.model_selection import train_test_split\n",
    "from sklearn.metrics import confusion_matrix, roc_curve, auc\n",
    "from tensorflow.keras.models import Sequential\n",
    "from tensorflow.keras.layers import Dense\n",
    "from tensorflow.keras.optimizers import Adam, SGD, RMSprop\n",
    "from utils.early_stopping import CustomEarlyStopping\n",
    "import seaborn as sns\n",
    "import matplotlib.pyplot as plt\n",
    "import pandas as pd\n",
    "import tensorflow as tf"
   ]
  },
  {
   "cell_type": "code",
   "execution_count": null,
   "id": "9bddc2ea",
   "metadata": {},
   "outputs": [],
   "source": [
    "import mlflow\n",
    "mlflow.tensorflow.autolog()\n",
    "mlflow.set_experiment('deep_neural_network')"
   ]
  },
  {
   "cell_type": "code",
   "execution_count": 14,
   "id": "f27412b6",
   "metadata": {},
   "outputs": [],
   "source": [
    "file_name = \"diabetes_prediction_dataset.csv\"\n",
    "\n",
    "df = kagglehub.dataset_load(\n",
    "    KaggleDatasetAdapter.PANDAS,\n",
    "    \"iammustafatz/diabetes-prediction-dataset\",\n",
    "    file_name,\n",
    ")"
   ]
  },
  {
   "cell_type": "markdown",
   "id": "8eb0f1b6",
   "metadata": {},
   "source": [
    "If you want to see details about exploratory data analysis, please take a look in the file [exploratory_data_analysis.ipynb](exploratory_data_analysis.ipynb) instead, because this file will be focused in get a deeper model."
   ]
  },
  {
   "cell_type": "markdown",
   "id": "55ee99b9",
   "metadata": {},
   "source": [
    "## 1. Cleaning the dataset"
   ]
  },
  {
   "cell_type": "code",
   "execution_count": 15,
   "id": "69cd5e2d",
   "metadata": {},
   "outputs": [
    {
     "data": {
      "text/plain": [
       "gender                 0\n",
       "age                    0\n",
       "hypertension           0\n",
       "heart_disease          0\n",
       "smoking_history        0\n",
       "bmi                    0\n",
       "HbA1c_level            0\n",
       "blood_glucose_level    0\n",
       "diabetes               0\n",
       "dtype: int64"
      ]
     },
     "execution_count": 15,
     "metadata": {},
     "output_type": "execute_result"
    }
   ],
   "source": [
    "df.isnull().sum() # we don't have null values in the dataset, so we don't need to handle them"
   ]
  },
  {
   "cell_type": "code",
   "execution_count": 16,
   "id": "18ab1e60",
   "metadata": {},
   "outputs": [],
   "source": [
    "# Convert the column \"blood_glucose_level\" to float\n",
    "df['blood_glucose_level'] = df['blood_glucose_level'].astype(float)"
   ]
  },
  {
   "cell_type": "code",
   "execution_count": 17,
   "id": "68ba2577",
   "metadata": {},
   "outputs": [],
   "source": [
    "# Transform feature gender in binary (Male == 1, Female = 0)\n",
    "def is_male(gender: str):\n",
    "    return 1 if gender.strip().lower() == 'male' else 0\n",
    "df['gender'] = df['gender'].map(is_male)"
   ]
  },
  {
   "cell_type": "code",
   "execution_count": 18,
   "id": "3b89efcf",
   "metadata": {},
   "outputs": [],
   "source": [
    "# Convert the info smoking_history in information if the patient is a smoker or not (binary) \n",
    "df['is_smoker'] = df['smoking_history'].map({'never': 0, 'No Info': 0, 'current': 1, 'former': 1, 'ever': 1, 'not current': 0})\n",
    "# Remove the column \"age\" from the dataset\n",
    "df = df.drop(columns=['smoking_history'])"
   ]
  },
  {
   "cell_type": "code",
   "execution_count": 19,
   "id": "f8d18d54",
   "metadata": {},
   "outputs": [
    {
     "data": {
      "text/html": [
       "<div>\n",
       "<style scoped>\n",
       "    .dataframe tbody tr th:only-of-type {\n",
       "        vertical-align: middle;\n",
       "    }\n",
       "\n",
       "    .dataframe tbody tr th {\n",
       "        vertical-align: top;\n",
       "    }\n",
       "\n",
       "    .dataframe thead th {\n",
       "        text-align: right;\n",
       "    }\n",
       "</style>\n",
       "<table border=\"1\" class=\"dataframe\">\n",
       "  <thead>\n",
       "    <tr style=\"text-align: right;\">\n",
       "      <th></th>\n",
       "      <th>gender</th>\n",
       "      <th>age</th>\n",
       "      <th>hypertension</th>\n",
       "      <th>heart_disease</th>\n",
       "      <th>bmi</th>\n",
       "      <th>HbA1c_level</th>\n",
       "      <th>blood_glucose_level</th>\n",
       "      <th>diabetes</th>\n",
       "      <th>is_smoker</th>\n",
       "    </tr>\n",
       "  </thead>\n",
       "  <tbody>\n",
       "    <tr>\n",
       "      <th>0</th>\n",
       "      <td>0</td>\n",
       "      <td>80.0</td>\n",
       "      <td>0</td>\n",
       "      <td>1</td>\n",
       "      <td>25.19</td>\n",
       "      <td>6.6</td>\n",
       "      <td>140.0</td>\n",
       "      <td>0</td>\n",
       "      <td>0</td>\n",
       "    </tr>\n",
       "    <tr>\n",
       "      <th>1</th>\n",
       "      <td>0</td>\n",
       "      <td>54.0</td>\n",
       "      <td>0</td>\n",
       "      <td>0</td>\n",
       "      <td>27.32</td>\n",
       "      <td>6.6</td>\n",
       "      <td>80.0</td>\n",
       "      <td>0</td>\n",
       "      <td>0</td>\n",
       "    </tr>\n",
       "    <tr>\n",
       "      <th>2</th>\n",
       "      <td>1</td>\n",
       "      <td>28.0</td>\n",
       "      <td>0</td>\n",
       "      <td>0</td>\n",
       "      <td>27.32</td>\n",
       "      <td>5.7</td>\n",
       "      <td>158.0</td>\n",
       "      <td>0</td>\n",
       "      <td>0</td>\n",
       "    </tr>\n",
       "    <tr>\n",
       "      <th>3</th>\n",
       "      <td>0</td>\n",
       "      <td>36.0</td>\n",
       "      <td>0</td>\n",
       "      <td>0</td>\n",
       "      <td>23.45</td>\n",
       "      <td>5.0</td>\n",
       "      <td>155.0</td>\n",
       "      <td>0</td>\n",
       "      <td>1</td>\n",
       "    </tr>\n",
       "    <tr>\n",
       "      <th>4</th>\n",
       "      <td>1</td>\n",
       "      <td>76.0</td>\n",
       "      <td>1</td>\n",
       "      <td>1</td>\n",
       "      <td>20.14</td>\n",
       "      <td>4.8</td>\n",
       "      <td>155.0</td>\n",
       "      <td>0</td>\n",
       "      <td>1</td>\n",
       "    </tr>\n",
       "    <tr>\n",
       "      <th>...</th>\n",
       "      <td>...</td>\n",
       "      <td>...</td>\n",
       "      <td>...</td>\n",
       "      <td>...</td>\n",
       "      <td>...</td>\n",
       "      <td>...</td>\n",
       "      <td>...</td>\n",
       "      <td>...</td>\n",
       "      <td>...</td>\n",
       "    </tr>\n",
       "    <tr>\n",
       "      <th>99995</th>\n",
       "      <td>0</td>\n",
       "      <td>80.0</td>\n",
       "      <td>0</td>\n",
       "      <td>0</td>\n",
       "      <td>27.32</td>\n",
       "      <td>6.2</td>\n",
       "      <td>90.0</td>\n",
       "      <td>0</td>\n",
       "      <td>0</td>\n",
       "    </tr>\n",
       "    <tr>\n",
       "      <th>99996</th>\n",
       "      <td>0</td>\n",
       "      <td>2.0</td>\n",
       "      <td>0</td>\n",
       "      <td>0</td>\n",
       "      <td>17.37</td>\n",
       "      <td>6.5</td>\n",
       "      <td>100.0</td>\n",
       "      <td>0</td>\n",
       "      <td>0</td>\n",
       "    </tr>\n",
       "    <tr>\n",
       "      <th>99997</th>\n",
       "      <td>1</td>\n",
       "      <td>66.0</td>\n",
       "      <td>0</td>\n",
       "      <td>0</td>\n",
       "      <td>27.83</td>\n",
       "      <td>5.7</td>\n",
       "      <td>155.0</td>\n",
       "      <td>0</td>\n",
       "      <td>1</td>\n",
       "    </tr>\n",
       "    <tr>\n",
       "      <th>99998</th>\n",
       "      <td>0</td>\n",
       "      <td>24.0</td>\n",
       "      <td>0</td>\n",
       "      <td>0</td>\n",
       "      <td>35.42</td>\n",
       "      <td>4.0</td>\n",
       "      <td>100.0</td>\n",
       "      <td>0</td>\n",
       "      <td>0</td>\n",
       "    </tr>\n",
       "    <tr>\n",
       "      <th>99999</th>\n",
       "      <td>0</td>\n",
       "      <td>57.0</td>\n",
       "      <td>0</td>\n",
       "      <td>0</td>\n",
       "      <td>22.43</td>\n",
       "      <td>6.6</td>\n",
       "      <td>90.0</td>\n",
       "      <td>0</td>\n",
       "      <td>1</td>\n",
       "    </tr>\n",
       "  </tbody>\n",
       "</table>\n",
       "<p>100000 rows × 9 columns</p>\n",
       "</div>"
      ],
      "text/plain": [
       "       gender   age  hypertension  heart_disease    bmi  HbA1c_level  \\\n",
       "0           0  80.0             0              1  25.19          6.6   \n",
       "1           0  54.0             0              0  27.32          6.6   \n",
       "2           1  28.0             0              0  27.32          5.7   \n",
       "3           0  36.0             0              0  23.45          5.0   \n",
       "4           1  76.0             1              1  20.14          4.8   \n",
       "...       ...   ...           ...            ...    ...          ...   \n",
       "99995       0  80.0             0              0  27.32          6.2   \n",
       "99996       0   2.0             0              0  17.37          6.5   \n",
       "99997       1  66.0             0              0  27.83          5.7   \n",
       "99998       0  24.0             0              0  35.42          4.0   \n",
       "99999       0  57.0             0              0  22.43          6.6   \n",
       "\n",
       "       blood_glucose_level  diabetes  is_smoker  \n",
       "0                    140.0         0          0  \n",
       "1                     80.0         0          0  \n",
       "2                    158.0         0          0  \n",
       "3                    155.0         0          1  \n",
       "4                    155.0         0          1  \n",
       "...                    ...       ...        ...  \n",
       "99995                 90.0         0          0  \n",
       "99996                100.0         0          0  \n",
       "99997                155.0         0          1  \n",
       "99998                100.0         0          0  \n",
       "99999                 90.0         0          1  \n",
       "\n",
       "[100000 rows x 9 columns]"
      ]
     },
     "execution_count": 19,
     "metadata": {},
     "output_type": "execute_result"
    }
   ],
   "source": [
    "df"
   ]
  },
  {
   "cell_type": "code",
   "execution_count": 20,
   "id": "d91519e1",
   "metadata": {},
   "outputs": [
    {
     "data": {
      "text/plain": [
       "gender                   int64\n",
       "age                    float64\n",
       "hypertension             int64\n",
       "heart_disease            int64\n",
       "bmi                    float64\n",
       "HbA1c_level            float64\n",
       "blood_glucose_level    float64\n",
       "diabetes                 int64\n",
       "is_smoker                int64\n",
       "dtype: object"
      ]
     },
     "execution_count": 20,
     "metadata": {},
     "output_type": "execute_result"
    }
   ],
   "source": [
    "df.dtypes # all the data is in the correct format to proceed with the model"
   ]
  },
  {
   "cell_type": "markdown",
   "id": "3112dc29",
   "metadata": {},
   "source": [
    "## 2. Normalizing the features"
   ]
  },
  {
   "cell_type": "code",
   "execution_count": 21,
   "id": "1846e576",
   "metadata": {},
   "outputs": [],
   "source": [
    "# Apply normalization to the continuous features to improve the model performance\n",
    "continuous_features = ['age', 'blood_glucose_level', 'bmi', 'HbA1c_level']\n",
    "\n",
    "scaler = StandardScaler()\n",
    "df[continuous_features] = scaler.fit_transform(df[continuous_features])"
   ]
  },
  {
   "cell_type": "code",
   "execution_count": 22,
   "id": "68f27286",
   "metadata": {},
   "outputs": [
    {
     "data": {
      "text/html": [
       "<div>\n",
       "<style scoped>\n",
       "    .dataframe tbody tr th:only-of-type {\n",
       "        vertical-align: middle;\n",
       "    }\n",
       "\n",
       "    .dataframe tbody tr th {\n",
       "        vertical-align: top;\n",
       "    }\n",
       "\n",
       "    .dataframe thead th {\n",
       "        text-align: right;\n",
       "    }\n",
       "</style>\n",
       "<table border=\"1\" class=\"dataframe\">\n",
       "  <thead>\n",
       "    <tr style=\"text-align: right;\">\n",
       "      <th></th>\n",
       "      <th>age</th>\n",
       "      <th>blood_glucose_level</th>\n",
       "      <th>bmi</th>\n",
       "      <th>HbA1c_level</th>\n",
       "    </tr>\n",
       "  </thead>\n",
       "  <tbody>\n",
       "    <tr>\n",
       "      <th>count</th>\n",
       "      <td>1.000000e+05</td>\n",
       "      <td>1.000000e+05</td>\n",
       "      <td>1.000000e+05</td>\n",
       "      <td>1.000000e+05</td>\n",
       "    </tr>\n",
       "    <tr>\n",
       "      <th>mean</th>\n",
       "      <td>1.433875e-16</td>\n",
       "      <td>-2.842171e-16</td>\n",
       "      <td>-1.702460e-16</td>\n",
       "      <td>-2.415845e-18</td>\n",
       "    </tr>\n",
       "    <tr>\n",
       "      <th>std</th>\n",
       "      <td>1.000005e+00</td>\n",
       "      <td>1.000005e+00</td>\n",
       "      <td>1.000005e+00</td>\n",
       "      <td>1.000005e+00</td>\n",
       "    </tr>\n",
       "    <tr>\n",
       "      <th>min</th>\n",
       "      <td>-1.856658e+00</td>\n",
       "      <td>-1.426210e+00</td>\n",
       "      <td>-2.608320e+00</td>\n",
       "      <td>-1.893686e+00</td>\n",
       "    </tr>\n",
       "    <tr>\n",
       "      <th>25%</th>\n",
       "      <td>-7.943364e-01</td>\n",
       "      <td>-9.349053e-01</td>\n",
       "      <td>-5.561106e-01</td>\n",
       "      <td>-6.794897e-01</td>\n",
       "    </tr>\n",
       "    <tr>\n",
       "      <th>50%</th>\n",
       "      <td>4.948073e-02</td>\n",
       "      <td>4.770422e-02</td>\n",
       "      <td>-1.155837e-04</td>\n",
       "      <td>2.545078e-01</td>\n",
       "    </tr>\n",
       "    <tr>\n",
       "      <th>75%</th>\n",
       "      <td>8.044750e-01</td>\n",
       "      <td>5.144437e-01</td>\n",
       "      <td>3.404125e-01</td>\n",
       "      <td>6.281067e-01</td>\n",
       "    </tr>\n",
       "    <tr>\n",
       "      <th>max</th>\n",
       "      <td>1.692704e+00</td>\n",
       "      <td>3.978142e+00</td>\n",
       "      <td>1.030161e+01</td>\n",
       "      <td>3.243300e+00</td>\n",
       "    </tr>\n",
       "  </tbody>\n",
       "</table>\n",
       "</div>"
      ],
      "text/plain": [
       "                age  blood_glucose_level           bmi   HbA1c_level\n",
       "count  1.000000e+05         1.000000e+05  1.000000e+05  1.000000e+05\n",
       "mean   1.433875e-16        -2.842171e-16 -1.702460e-16 -2.415845e-18\n",
       "std    1.000005e+00         1.000005e+00  1.000005e+00  1.000005e+00\n",
       "min   -1.856658e+00        -1.426210e+00 -2.608320e+00 -1.893686e+00\n",
       "25%   -7.943364e-01        -9.349053e-01 -5.561106e-01 -6.794897e-01\n",
       "50%    4.948073e-02         4.770422e-02 -1.155837e-04  2.545078e-01\n",
       "75%    8.044750e-01         5.144437e-01  3.404125e-01  6.281067e-01\n",
       "max    1.692704e+00         3.978142e+00  1.030161e+01  3.243300e+00"
      ]
     },
     "execution_count": 22,
     "metadata": {},
     "output_type": "execute_result"
    }
   ],
   "source": [
    "df[continuous_features].describe() # normalization was applied correctly"
   ]
  },
  {
   "cell_type": "markdown",
   "id": "2305e70f",
   "metadata": {},
   "source": [
    "## 3. Treating the desbalanceament"
   ]
  },
  {
   "cell_type": "code",
   "execution_count": 23,
   "id": "0e1ce78e",
   "metadata": {},
   "outputs": [],
   "source": [
    "def apply_undersampling(df: pd.DataFrame) -> pd.DataFrame:\n",
    "    # separate the classes\n",
    "    df_majority = df[df[target_col] == 0]\n",
    "    df_minority = df[df[target_col] == 1]\n",
    "\n",
    "    # undersample the majority class\n",
    "    df_majority_downsampled = resample(\n",
    "        df_majority,\n",
    "        replace=False,\n",
    "        n_samples=len(df_minority),\n",
    "        random_state=random_state\n",
    "    )\n",
    "    \n",
    "    # combine the downsampled majority class with the minority class and return the new balanced dataset\n",
    "    return pd.concat([df_majority_downsampled, df_minority])\n",
    "\n",
    "def apply_oversampling(df: pd.DataFrame) -> pd.DataFrame:\n",
    "    # separate the classes\n",
    "    df_majority = df[df[target_col] == 0]\n",
    "    df_minority = df[df[target_col] == 1]\n",
    "\n",
    "    # oversample the minority class\n",
    "    df_minority_oversampled = resample(\n",
    "        df_minority,\n",
    "        replace=True,\n",
    "        n_samples=len(df_majority),\n",
    "        random_state=random_state\n",
    "    )\n",
    "    \n",
    "    # combine the oversampled minority class with the majority class and return the new balanced dataset\n",
    "    return pd.concat([df_majority, df_minority_oversampled])\n",
    "    \n",
    "if balance_treatment_type == 'undersampling':\n",
    "    df = apply_undersampling(df)\n",
    "elif balance_treatment_type == 'oversampling':\n",
    "    df = apply_oversampling(df)\n",
    "else:\n",
    "    raise ValueError(f\"Invalid balance treatment type: {balance_treatment_type}\")"
   ]
  },
  {
   "cell_type": "code",
   "execution_count": 24,
   "id": "a77baa3f",
   "metadata": {},
   "outputs": [
    {
     "name": "stdout",
     "output_type": "stream",
     "text": [
      "Number of diabetes 0:  91500\n",
      "Number of diabetes 1:  91500\n"
     ]
    }
   ],
   "source": [
    "print('Number of diabetes 0: ', df[target_col].value_counts()[0])\n",
    "print('Number of diabetes 1: ', df[target_col].value_counts()[1])"
   ]
  },
  {
   "cell_type": "markdown",
   "id": "6706c7ae",
   "metadata": {},
   "source": [
    "4. Separate the dataset in train/test"
   ]
  },
  {
   "cell_type": "code",
   "execution_count": 25,
   "id": "ec3e80d4",
   "metadata": {},
   "outputs": [],
   "source": [
    "# Separate features and target\n",
    "X = df.drop(columns=[target_col], axis=1)\n",
    "y = df[target_col]\n",
    "\n",
    "# Split the dataset into train and test\n",
    "X_train, X_test, y_train, y_test = train_test_split(X, y, test_size=dataset_test_size, random_state=random_state)"
   ]
  },
  {
   "cell_type": "markdown",
   "id": "28f47e35",
   "metadata": {},
   "source": [
    "## 5. Creating Baseline Neural Network"
   ]
  },
  {
   "cell_type": "code",
   "execution_count": 26,
   "id": "58315002",
   "metadata": {},
   "outputs": [],
   "source": [
    "# Define the optimizer\n",
    "optimizer = 0\n",
    "if optimizer_type == 'adam':\n",
    "    optimizer = Adam(learning_rate=learning_rate)\n",
    "elif optimizer_type == 'sgd':\n",
    "    optimizer = SGD(learning_rate=learning_rate)\n",
    "elif optimizer_type == 'rmsprop':\n",
    "    optimizer = RMSprop(learning_rate=learning_rate)\n",
    "else:\n",
    "    raise ValueError(f\"Invalid optimizer type: {optimizer_type}\")"
   ]
  },
  {
   "cell_type": "code",
   "execution_count": 27,
   "id": "9b3053f2",
   "metadata": {},
   "outputs": [],
   "source": [
    "def focal_loss(gamma=2.0, alpha=0.25):\n",
    "    def focal_loss_fixed(y_true, y_pred):\n",
    "        epsilon = tf.keras.backend.epsilon()\n",
    "        y_pred = tf.clip_by_value(y_pred, epsilon, 1. - epsilon)\n",
    "        \n",
    "        alpha_t = y_true * alpha + (1 - y_true) * (1 - alpha)\n",
    "        p_t = y_true * y_pred + (1 - y_true) * (1 - y_pred)\n",
    "        focal_weight = alpha_t * tf.pow((1 - p_t), gamma)\n",
    "        \n",
    "        focal_loss = focal_weight * tf.keras.losses.binary_crossentropy(y_true, y_pred)\n",
    "        return tf.reduce_mean(focal_loss)\n",
    "    return focal_loss_fixed"
   ]
  },
  {
   "cell_type": "code",
   "execution_count": 28,
   "id": "ea0fc8ca",
   "metadata": {},
   "outputs": [
    {
     "name": "stderr",
     "output_type": "stream",
     "text": [
      "/Users/alexandrelara/Documents/storage/c/code/diabetes_neural_network/.venv/lib/python3.11/site-packages/keras/src/layers/core/dense.py:92: UserWarning: Do not pass an `input_shape`/`input_dim` argument to a layer. When using Sequential models, prefer using an `Input(shape)` object as the first layer in the model instead.\n",
      "  super().__init__(activity_regularizer=activity_regularizer, **kwargs)\n"
     ]
    }
   ],
   "source": [
    "# Create the model with the number of neurons in the input layer\n",
    "model = Sequential([\n",
    "    Dense(n_neurons_input_layer, activation=activation_function, input_shape=(X_train.shape[1],)),\n",
    "    Dense(n_neurons_hidden_layer1, activation=activation_function),\n",
    "    Dense(n_neurons_hidden_layer2, activation=activation_function),\n",
    "    Dense(n_neurons_hidden_layer3, activation=activation_function),\n",
    "    Dense(n_neurons_output_layer, activation=output_activation_function)\n",
    "])\n",
    "\n",
    "# Compile the model with the optimizer, loss function and metrics\n",
    "model.compile(\n",
    "    optimizer=optimizer,\n",
    "    # custom loss function to improve recall to our specific case\n",
    "    loss=focal_loss(gamma=gamma, alpha=alpha),\n",
    "    metrics=metrics\n",
    ")"
   ]
  },
  {
   "cell_type": "code",
   "execution_count": 29,
   "id": "8b8d9840",
   "metadata": {},
   "outputs": [
    {
     "name": "stdout",
     "output_type": "stream",
     "text": [
      "Epoch 1/200\n",
      "\u001b[1m552/572\u001b[0m \u001b[32m━━━━━━━━━━━━━━━━━━━\u001b[0m\u001b[37m━\u001b[0m \u001b[1m0s\u001b[0m 548us/step - loss: 0.0217 - recall: 0.9616Epoch 1: ✅ Improvement detected! recall: 0.9565 (best: 0.9565)\n",
      "\u001b[1m572/572\u001b[0m \u001b[32m━━━━━━━━━━━━━━━━━━━━\u001b[0m\u001b[37m\u001b[0m \u001b[1m1s\u001b[0m 560us/step - loss: 0.0114 - recall: 0.9565\n",
      "Epoch 2/200\n",
      "\u001b[1m567/572\u001b[0m \u001b[32m━━━━━━━━━━━━━━━━━━━\u001b[0m\u001b[37m━\u001b[0m \u001b[1m0s\u001b[0m 533us/step - loss: 0.0066 - recall: 0.9610Epoch 2: ❌ Insufficient improvement. recall: 0.9628 (needs: 0.9765) Wait: 1/20\n",
      "\u001b[1m572/572\u001b[0m \u001b[32m━━━━━━━━━━━━━━━━━━━━\u001b[0m\u001b[37m\u001b[0m \u001b[1m0s\u001b[0m 544us/step - loss: 0.0062 - recall: 0.9628\n",
      "Epoch 3/200\n",
      "\u001b[1m566/572\u001b[0m \u001b[32m━━━━━━━━━━━━━━━━━━━\u001b[0m\u001b[37m━\u001b[0m \u001b[1m0s\u001b[0m 534us/step - loss: 0.0057 - recall: 0.9655Epoch 3: ❌ Insufficient improvement. recall: 0.9659 (needs: 0.9765) Wait: 2/20\n",
      "\u001b[1m572/572\u001b[0m \u001b[32m━━━━━━━━━━━━━━━━━━━━\u001b[0m\u001b[37m\u001b[0m \u001b[1m0s\u001b[0m 545us/step - loss: 0.0056 - recall: 0.9659\n",
      "Epoch 4/200\n",
      "\u001b[1m565/572\u001b[0m \u001b[32m━━━━━━━━━━━━━━━━━━━\u001b[0m\u001b[37m━\u001b[0m \u001b[1m0s\u001b[0m 535us/step - loss: 0.0053 - recall: 0.9658Epoch 4: ❌ Insufficient improvement. recall: 0.9664 (needs: 0.9765) Wait: 3/20\n",
      "\u001b[1m572/572\u001b[0m \u001b[32m━━━━━━━━━━━━━━━━━━━━\u001b[0m\u001b[37m\u001b[0m \u001b[1m0s\u001b[0m 547us/step - loss: 0.0052 - recall: 0.9664\n",
      "Epoch 5/200\n",
      "\u001b[1m533/572\u001b[0m \u001b[32m━━━━━━━━━━━━━━━━━━\u001b[0m\u001b[37m━━\u001b[0m \u001b[1m0s\u001b[0m 566us/step - loss: 0.0052 - recall: 0.9661Epoch 5: ❌ Insufficient improvement. recall: 0.9667 (needs: 0.9765) Wait: 4/20\n",
      "\u001b[1m572/572\u001b[0m \u001b[32m━━━━━━━━━━━━━━━━━━━━\u001b[0m\u001b[37m\u001b[0m \u001b[1m0s\u001b[0m 578us/step - loss: 0.0051 - recall: 0.9667\n",
      "Epoch 6/200\n",
      "\u001b[1m565/572\u001b[0m \u001b[32m━━━━━━━━━━━━━━━━━━━\u001b[0m\u001b[37m━\u001b[0m \u001b[1m0s\u001b[0m 535us/step - loss: 0.0049 - recall: 0.9666Epoch 6: ❌ Insufficient improvement. recall: 0.9673 (needs: 0.9765) Wait: 5/20\n",
      "\u001b[1m572/572\u001b[0m \u001b[32m━━━━━━━━━━━━━━━━━━━━\u001b[0m\u001b[37m\u001b[0m \u001b[1m0s\u001b[0m 547us/step - loss: 0.0050 - recall: 0.9673\n",
      "Epoch 7/200\n",
      "\u001b[1m538/572\u001b[0m \u001b[32m━━━━━━━━━━━━━━━━━━\u001b[0m\u001b[37m━━\u001b[0m \u001b[1m0s\u001b[0m 562us/step - loss: 0.0049 - recall: 0.9670Epoch 7: ❌ Insufficient improvement. recall: 0.9660 (needs: 0.9765) Wait: 6/20\n",
      "\u001b[1m572/572\u001b[0m \u001b[32m━━━━━━━━━━━━━━━━━━━━\u001b[0m\u001b[37m\u001b[0m \u001b[1m0s\u001b[0m 582us/step - loss: 0.0049 - recall: 0.9660\n",
      "Epoch 8/200\n",
      "\u001b[1m559/572\u001b[0m \u001b[32m━━━━━━━━━━━━━━━━━━━\u001b[0m\u001b[37m━\u001b[0m \u001b[1m0s\u001b[0m 540us/step - loss: 0.0048 - recall: 0.9685Epoch 8: ❌ Insufficient improvement. recall: 0.9669 (needs: 0.9765) Wait: 7/20\n",
      "\u001b[1m572/572\u001b[0m \u001b[32m━━━━━━━━━━━━━━━━━━━━\u001b[0m\u001b[37m\u001b[0m \u001b[1m0s\u001b[0m 553us/step - loss: 0.0049 - recall: 0.9669\n",
      "Epoch 9/200\n",
      "\u001b[1m550/572\u001b[0m \u001b[32m━━━━━━━━━━━━━━━━━━━\u001b[0m\u001b[37m━\u001b[0m \u001b[1m0s\u001b[0m 550us/step - loss: 0.0049 - recall: 0.9674Epoch 9: ❌ Insufficient improvement. recall: 0.9672 (needs: 0.9765) Wait: 8/20\n",
      "\u001b[1m572/572\u001b[0m \u001b[32m━━━━━━━━━━━━━━━━━━━━\u001b[0m\u001b[37m\u001b[0m \u001b[1m0s\u001b[0m 560us/step - loss: 0.0049 - recall: 0.9672\n",
      "Epoch 10/200\n",
      "\u001b[1m556/572\u001b[0m \u001b[32m━━━━━━━━━━━━━━━━━━━\u001b[0m\u001b[37m━\u001b[0m \u001b[1m0s\u001b[0m 545us/step - loss: 0.0048 - recall: 0.9686Epoch 10: ❌ Insufficient improvement. recall: 0.9677 (needs: 0.9765) Wait: 9/20\n",
      "\u001b[1m572/572\u001b[0m \u001b[32m━━━━━━━━━━━━━━━━━━━━\u001b[0m\u001b[37m\u001b[0m \u001b[1m0s\u001b[0m 554us/step - loss: 0.0048 - recall: 0.9677\n",
      "Epoch 11/200\n",
      "\u001b[1m539/572\u001b[0m \u001b[32m━━━━━━━━━━━━━━━━━━\u001b[0m\u001b[37m━━\u001b[0m \u001b[1m0s\u001b[0m 561us/step - loss: 0.0048 - recall: 0.9678Epoch 11: ❌ Insufficient improvement. recall: 0.9677 (needs: 0.9765) Wait: 10/20\n",
      "\u001b[1m572/572\u001b[0m \u001b[32m━━━━━━━━━━━━━━━━━━━━\u001b[0m\u001b[37m\u001b[0m \u001b[1m0s\u001b[0m 577us/step - loss: 0.0048 - recall: 0.9677\n",
      "Epoch 12/200\n",
      "\u001b[1m570/572\u001b[0m \u001b[32m━━━━━━━━━━━━━━━━━━━\u001b[0m\u001b[37m━\u001b[0m \u001b[1m0s\u001b[0m 529us/step - loss: 0.0048 - recall: 0.9668Epoch 12: ❌ Insufficient improvement. recall: 0.9672 (needs: 0.9765) Wait: 11/20\n",
      "\u001b[1m572/572\u001b[0m \u001b[32m━━━━━━━━━━━━━━━━━━━━\u001b[0m\u001b[37m\u001b[0m \u001b[1m0s\u001b[0m 540us/step - loss: 0.0047 - recall: 0.9672\n",
      "Epoch 13/200\n",
      "\u001b[1m569/572\u001b[0m \u001b[32m━━━━━━━━━━━━━━━━━━━\u001b[0m\u001b[37m━\u001b[0m \u001b[1m0s\u001b[0m 531us/step - loss: 0.0048 - recall: 0.9673Epoch 13: ❌ Insufficient improvement. recall: 0.9686 (needs: 0.9765) Wait: 12/20\n",
      "\u001b[1m572/572\u001b[0m \u001b[32m━━━━━━━━━━━━━━━━━━━━\u001b[0m\u001b[37m\u001b[0m \u001b[1m0s\u001b[0m 541us/step - loss: 0.0047 - recall: 0.9686\n",
      "Epoch 14/200\n",
      "\u001b[1m554/572\u001b[0m \u001b[32m━━━━━━━━━━━━━━━━━━━\u001b[0m\u001b[37m━\u001b[0m \u001b[1m0s\u001b[0m 546us/step - loss: 0.0046 - recall: 0.9691Epoch 14: ❌ Insufficient improvement. recall: 0.9688 (needs: 0.9765) Wait: 13/20\n",
      "\u001b[1m572/572\u001b[0m \u001b[32m━━━━━━━━━━━━━━━━━━━━\u001b[0m\u001b[37m\u001b[0m \u001b[1m0s\u001b[0m 555us/step - loss: 0.0047 - recall: 0.9688\n",
      "Epoch 15/200\n",
      "\u001b[1m553/572\u001b[0m \u001b[32m━━━━━━━━━━━━━━━━━━━\u001b[0m\u001b[37m━\u001b[0m \u001b[1m0s\u001b[0m 547us/step - loss: 0.0047 - recall: 0.9687Epoch 15: ❌ Insufficient improvement. recall: 0.9685 (needs: 0.9765) Wait: 14/20\n",
      "\u001b[1m572/572\u001b[0m \u001b[32m━━━━━━━━━━━━━━━━━━━━\u001b[0m\u001b[37m\u001b[0m \u001b[1m0s\u001b[0m 559us/step - loss: 0.0047 - recall: 0.9685\n",
      "Epoch 16/200\n",
      "\u001b[1m480/572\u001b[0m \u001b[32m━━━━━━━━━━━━━━━━\u001b[0m\u001b[37m━━━━\u001b[0m \u001b[1m0s\u001b[0m 525us/step - loss: 0.0045 - recall: 0.9684Epoch 16: ❌ Insufficient improvement. recall: 0.9684 (needs: 0.9765) Wait: 15/20\n",
      "\u001b[1m572/572\u001b[0m \u001b[32m━━━━━━━━━━━━━━━━━━━━\u001b[0m\u001b[37m\u001b[0m \u001b[1m0s\u001b[0m 534us/step - loss: 0.0046 - recall: 0.9684\n",
      "Epoch 17/200\n",
      "\u001b[1m562/572\u001b[0m \u001b[32m━━━━━━━━━━━━━━━━━━━\u001b[0m\u001b[37m━\u001b[0m \u001b[1m0s\u001b[0m 537us/step - loss: 0.0045 - recall: 0.9690Epoch 17: ❌ Insufficient improvement. recall: 0.9689 (needs: 0.9765) Wait: 16/20\n",
      "\u001b[1m572/572\u001b[0m \u001b[32m━━━━━━━━━━━━━━━━━━━━\u001b[0m\u001b[37m\u001b[0m \u001b[1m0s\u001b[0m 548us/step - loss: 0.0046 - recall: 0.9689\n",
      "Epoch 18/200\n",
      "\u001b[1m479/572\u001b[0m \u001b[32m━━━━━━━━━━━━━━━━\u001b[0m\u001b[37m━━━━\u001b[0m \u001b[1m0s\u001b[0m 527us/step - loss: 0.0046 - recall: 0.9675Epoch 18: ❌ Insufficient improvement. recall: 0.9694 (needs: 0.9765) Wait: 17/20\n",
      "\u001b[1m572/572\u001b[0m \u001b[32m━━━━━━━━━━━━━━━━━━━━\u001b[0m\u001b[37m\u001b[0m \u001b[1m0s\u001b[0m 536us/step - loss: 0.0045 - recall: 0.9694\n",
      "Epoch 19/200\n",
      "\u001b[1m563/572\u001b[0m \u001b[32m━━━━━━━━━━━━━━━━━━━\u001b[0m\u001b[37m━\u001b[0m \u001b[1m0s\u001b[0m 535us/step - loss: 0.0045 - recall: 0.9687Epoch 19: ❌ Insufficient improvement. recall: 0.9690 (needs: 0.9765) Wait: 18/20\n",
      "\u001b[1m572/572\u001b[0m \u001b[32m━━━━━━━━━━━━━━━━━━━━\u001b[0m\u001b[37m\u001b[0m \u001b[1m0s\u001b[0m 546us/step - loss: 0.0045 - recall: 0.9690\n",
      "Epoch 20/200\n",
      "\u001b[1m572/572\u001b[0m \u001b[32m━━━━━━━━━━━━━━━━━━━━\u001b[0m\u001b[37m\u001b[0m \u001b[1m0s\u001b[0m 529us/step - loss: 0.0044 - recall: 0.9700Epoch 20: ❌ Insufficient improvement. recall: 0.9690 (needs: 0.9765) Wait: 19/20\n",
      "\u001b[1m572/572\u001b[0m \u001b[32m━━━━━━━━━━━━━━━━━━━━\u001b[0m\u001b[37m\u001b[0m \u001b[1m0s\u001b[0m 540us/step - loss: 0.0045 - recall: 0.9690\n",
      "Epoch 21/200\n",
      "\u001b[1m558/572\u001b[0m \u001b[32m━━━━━━━━━━━━━━━━━━━\u001b[0m\u001b[37m━\u001b[0m \u001b[1m0s\u001b[0m 542us/step - loss: 0.0044 - recall: 0.9704Epoch 21: ❌ Insufficient improvement. recall: 0.9692 (needs: 0.9765) Wait: 20/20\n",
      "\n",
      "🛑 Early Stopping! Stopped at epoch 21\n",
      "Best recall: 0.9565\n",
      "\u001b[1m572/572\u001b[0m \u001b[32m━━━━━━━━━━━━━━━━━━━━\u001b[0m\u001b[37m\u001b[0m \u001b[1m0s\u001b[0m 551us/step - loss: 0.0045 - recall: 0.9692\n"
     ]
    }
   ],
   "source": [
    "# Early stopping callback\n",
    "early_stopping = CustomEarlyStopping(\n",
    "    monitor=early_stopping_monitor,\n",
    "    min_improvement=min_improvement,\n",
    "    patience=early_stopping_patience\n",
    ")\n",
    "\n",
    "# Train the model\n",
    "history = model.fit(\n",
    "    X_train,\n",
    "    y_train,\n",
    "    epochs=epochs,\n",
    "    batch_size=batch_size,\n",
    "    callbacks=[early_stopping]\n",
    ")"
   ]
  },
  {
   "cell_type": "markdown",
   "id": "e3f3be6e",
   "metadata": {},
   "source": [
    "## 6. Analyzing the Baseline neural network metrics"
   ]
  },
  {
   "cell_type": "code",
   "execution_count": 30,
   "id": "c54f4a41",
   "metadata": {},
   "outputs": [
    {
     "name": "stdout",
     "output_type": "stream",
     "text": [
      "Recall: 96.92%\n"
     ]
    }
   ],
   "source": [
    "accuracy = history.history['recall'][-1]\n",
    "print(f\"Recall: {(accuracy * 100):.2f}%\")"
   ]
  },
  {
   "cell_type": "code",
   "execution_count": 31,
   "id": "f093b8ec",
   "metadata": {},
   "outputs": [
    {
     "name": "stdout",
     "output_type": "stream",
     "text": [
      "\u001b[1m1144/1144\u001b[0m \u001b[32m━━━━━━━━━━━━━━━━━━━━\u001b[0m\u001b[37m\u001b[0m \u001b[1m0s\u001b[0m 172us/step\n"
     ]
    }
   ],
   "source": [
    "predictions = model.predict(X_test)\n",
    "predicted_classes = (predictions > 0.5).astype(int)"
   ]
  },
  {
   "cell_type": "code",
   "execution_count": 32,
   "id": "66ae12bf",
   "metadata": {},
   "outputs": [],
   "source": [
    "cm = confusion_matrix(y_test, predicted_classes)"
   ]
  },
  {
   "cell_type": "code",
   "execution_count": 33,
   "id": "23f89e50",
   "metadata": {},
   "outputs": [
    {
     "data": {
      "image/png": "[encoded data removed]",
      "text/plain": [
       "<Figure size 800x600 with 2 Axes>"
      ]
     },
     "metadata": {},
     "output_type": "display_data"
    }
   ],
   "source": [
    "# plot confusion matrix\n",
    "plt.figure(figsize=(8, 6))\n",
    "sns.heatmap(cm, annot=True, fmt='d', cmap='Blues', \n",
    "            xticklabels=['No Diabetes', 'Diabetes'],\n",
    "            yticklabels=['No Diabetes', 'Diabetes'])\n",
    "plt.title('Confusion Matrix')\n",
    "plt.ylabel('True Label')\n",
    "plt.xlabel('Predicted Label')\n",
    "plt.show()"
   ]
  },
  {
   "cell_type": "code",
   "execution_count": 34,
   "id": "6958bedb",
   "metadata": {},
   "outputs": [],
   "source": [
    "# calculate ROC curve\n",
    "fpr, tpr, thresholds = roc_curve(y_test, predictions)\n",
    "roc_auc = auc(fpr, tpr)"
   ]
  },
  {
   "cell_type": "code",
   "execution_count": 35,
   "id": "9e8a0fb5",
   "metadata": {},
   "outputs": [
    {
     "data": {
      "image/png": "[encoded data removed]",
      "text/plain": [
       "<Figure size 800x600 with 1 Axes>"
      ]
     },
     "metadata": {},
     "output_type": "display_data"
    }
   ],
   "source": [
    "# plot ROC curve\n",
    "plt.figure(figsize=(8, 6))\n",
    "plt.plot(fpr, tpr, color='darkorange', lw=2, \n",
    "         label=f'ROC curve (AUC = {roc_auc:.2f})')\n",
    "plt.plot([0, 1], [0, 1], color='navy', lw=2, linestyle='--')\n",
    "plt.xlim([0.0, 1.0])\n",
    "plt.ylim([0.0, 1.05])\n",
    "plt.xlabel('False Positive Rate')\n",
    "plt.ylabel('True Positive Rate')\n",
    "plt.title('ROC')\n",
    "plt.legend(loc=\"lower right\")\n",
    "plt.show()"
   ]
  }
 ],
 "metadata": {
  "kernelspec": {
   "display_name": ".venv",
   "language": "python",
   "name": "python3"
  },
  "language_info": {
   "codemirror_mode": {
    "name": "ipython",
    "version": 3
   },
   "file_extension": ".py",
   "mimetype": "text/x-python",
   "name": "python",
   "nbconvert_exporter": "python",
   "pygments_lexer": "ipython3",
   "version": "3.12.8"
  }
 },
 "nbformat": 4,
 "nbformat_minor": 5
}
